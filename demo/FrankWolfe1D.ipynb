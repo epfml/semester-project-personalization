{
 "cells": [
  {
   "cell_type": "markdown",
   "metadata": {},
   "source": [
    "In this notebook, we examine our client-selection algorithm (based on Frank-Wolfe) on 1D synthetic dataset."
   ]
  },
  {
   "cell_type": "markdown",
   "metadata": {},
   "source": [
    "**Current Optimization Objective**: We minimize the following objective function:\n",
    "$$\n",
    "\\min_{\\{x_i\\}_i\\in\\mathbb{R}} \\max_{\\lambda_{ij}\\in\\mathbb{R}}\\min_{w_{ij}\\in[0,1], i<j} ~\\sum_{i=1}^N f_i(x_i) + \\sum_{i<j} w_{ij} \\left( \\lambda_{ij} (x_i - x_j) + \\frac{\\rho}{2} (x_i - x_j)^2 \\right)\n",
    "- \\alpha \\mathbb{1}^\\top W \\mathbb{1}\n",
    "$$\n",
    "where $\\rho\\ge0,\\alpha\\ge0$ are a constant.\n",
    "\n",
    "**Future Version**: In the future, we will model this as a bilevel optimization problem but with the **same algorithm**\n",
    "$$\n",
    "\\min_{\\{x_i\\}_i\\in\\mathbb{R}} \\max_{\\lambda_{ij}\\in\\mathbb{R}} ~\\sum_{i=1}^N f_i(x_i) + \\sum_{i<j} w_{ij}^\\star \\left( \\lambda_{ij} (x_i - x_j) + \\frac{\\rho}{2} (x_i - x_j)^2 \\right)\n",
    "$$\n",
    "where the lower problem is that\n",
    "$$\n",
    "w^\\star_{ij}(X, \\Lambda; \\alpha, \\rho) = \\argmin_{w_{ij}\\in[0,1], i<j} \\sum_{i<j} w_{ij} \\left( \\lambda_{ij} (x_i - x_j) + \\frac{\\rho}{2} (x_i - x_j)^2 \\right) - \\alpha \\mathbb{1}^\\top W \\mathbb{1}\n",
    "$$\n"
   ]
  },
  {
   "cell_type": "markdown",
   "metadata": {},
   "source": [
    "## Problem Setup\n",
    "We consider the following 1D problem:\n",
    "- $N$ clients from $K$ clusters with means $\\mu_k$.\n",
    "- Each client $i\\in[N]$ has a quadratic objective $f_i(x)$ (no personalization at the moment)\n",
    "$$ f_i(x)=\\frac{1}{2}(x-\\mu_k)^2 $$\n",
    "- Each time we have access to an **unbiased stochastic** gradient with noise scale $\\sigma^2$\n",
    "$$ g(x) = x - \\mu_k+\\mathcal{N}(0, \\sigma^2)$$ \n",
    "    "
   ]
  },
  {
   "cell_type": "markdown",
   "metadata": {},
   "source": [
    "We define the initializations ($X,\\Lambda, W, \\mu$) as follows:"
   ]
  },
  {
   "cell_type": "code",
   "execution_count": 1,
   "metadata": {},
   "outputs": [],
   "source": [
    "import matplotlib.pyplot as plt\n",
    "import numpy as np \n",
    "\n",
    "class BaseSetup(object):\n",
    "    def __init__(self, K, N, rho, alpha, eta, gamma, sigma, title=\"\", seed=12345):\n",
    "        self.rng = np.random.Generator(np.random.PCG64(seed))\n",
    "        self.K = K\n",
    "        self.N = N\n",
    "        self.rho = rho\n",
    "        self.alpha = alpha\n",
    "        self.eta = eta\n",
    "        self.gamma = gamma\n",
    "        self.sigma = sigma\n",
    "        self.title = title\n",
    "\n",
    "        self.mu = self._init_mu()\n",
    "        self.X = self._init_X()\n",
    "        self.W = self._init_W()\n",
    "        self.lambda_ = self._init_lambda()\n",
    "        self.remark = \"\"\n",
    "\n",
    "        assert self.mu.shape == (N,)\n",
    "        assert self.X.shape == (N,)\n",
    "        assert self.W.shape == (N, N)\n",
    "\n",
    "    def copy_init(self):\n",
    "        return self.mu.copy(), self.X.copy(), self.W.copy(), self.lambda_.copy()\n",
    "\n",
    "    def _init_mu(self):\n",
    "        n_per_cluster = self.N // self.K\n",
    "        return np.array([[k] * n_per_cluster for k in np.arange(self.K)]).flatten()\n",
    "\n",
    "    def _init_X(self):\n",
    "        return self.mu + self.rng.normal(size=self.N)\n",
    "    \n",
    "    def _init_lambda(self):\n",
    "        return np.zeros((self.N, self.N))\n",
    "\n",
    "    def gt_cluster(self, i):\n",
    "        return self.mu[i]\n",
    "\n",
    "    def _init_W(self):\n",
    "        raise NotImplementedError\n",
    "\n",
    "class Setup1(BaseSetup):\n",
    "    def __init__(self, rho, alpha, eta, gamma, sigma, title=\"\", seed=12345):\n",
    "        super().__init__(K=10, N=100, rho=rho, alpha=alpha, eta=eta, gamma=gamma, sigma=sigma, title=title, seed=seed)\n",
    "        self.remark += \"Initialize W with Identity;\\n\"\n",
    "\n",
    "    def _init_W(self):\n",
    "        return np.identity(self.N)\n",
    "\n",
    "\n",
    "class Setup2(BaseSetup):\n",
    "    def __init__(self, rho, alpha, eta, gamma, sigma, title=\"\", seed=12345):\n",
    "        super().__init__(K=10, N=100, rho=rho, alpha=alpha, eta=eta, gamma=gamma, sigma=sigma, title=title,seed=seed)\n",
    "        self.remark += \"Initialize W with a matrix of 1s;\\n\"\n",
    "\n",
    "    def _init_W(self):\n",
    "        return np.ones_like(np.identity(self.N))"
   ]
  },
  {
   "cell_type": "markdown",
   "metadata": {},
   "source": [
    "We define the utility functions (such as gradients/FW/loss as follows):"
   ]
  },
  {
   "cell_type": "code",
   "execution_count": 2,
   "metadata": {},
   "outputs": [],
   "source": [
    "def grad_x(setup, mu, X, W, Lambda):\n",
    "    part1 = X - mu + setup.rng.normal(size=setup.N) * setup.sigma\n",
    "    part2 = (W * Lambda).sum(axis=1)\n",
    "    part3 = (setup.rho * W * ( np.c_[X] - np.r_[X] )).sum(axis=1)\n",
    "    return part1 + part2 + part3\n",
    "\n",
    "def grad_lambda(setup, mu, X, W, Lambda):\n",
    "    return W * (np.c_[X] - np.r_[X])\n",
    "\n",
    "def grad_W(setup, mu, X, W, Lambda):\n",
    "    return Lambda * (np.c_[X] - np.r_[X]) + setup.rho/2 * (np.c_[X] - np.r_[X])**2 - setup.alpha * np.ones_like(W)\n",
    "\n",
    "def frank_wolfe(setup, mu, X, W, Lambda, t):\n",
    "    g = grad_W(setup, mu, X, W, Lambda)\n",
    "    s = (np.sign(-g)+1)//2\n",
    "    # if t % 10 == 0:\n",
    "    #     print(\"t = \", t)\n",
    "    #     print(g[:4,:4])\n",
    "    #     print(s[:4, :4])\n",
    "    #     print(W[:4,:4])\n",
    "    #     print((W + 2 / (t+2) * (s - W))[:4,:4] )\n",
    "    W = W + 2 / (t+2) * (s - W)\n",
    "\n",
    "    # Small fix to the diagonal as they are suppose not to be changed.\n",
    "    np.fill_diagonal(W, 1)\n",
    "    return W\n",
    "\n",
    "class Loss(object):\n",
    "    def __init__(self, setup, mu, X, W, Lambda):\n",
    "        self.setup = setup\n",
    "        self.mu = mu\n",
    "        self.X = X\n",
    "        self.W = W\n",
    "        self.Lambda = Lambda\n",
    "    \n",
    "        self.part1 = ((X - mu)**2/2).sum()\n",
    "        self.part2 = (W * Lambda * (np.c_[X] - np.r_[X])).sum()\n",
    "        self.part3 = (setup.rho * W * ( np.c_[X] - np.r_[X] )**2/2).sum()\n",
    "        self.part4 = - setup.alpha * W.sum()\n",
    "\n",
    "        self.loss = self.part1 + self.part2 + self.part3"
   ]
  },
  {
   "cell_type": "markdown",
   "metadata": {},
   "source": [
    "Code block: one experiment one"
   ]
  },
  {
   "cell_type": "code",
   "execution_count": 3,
   "metadata": {},
   "outputs": [],
   "source": [
    "# For identity matrix\n",
    "class Run(object):\n",
    "    def __init__(self, setup, n_iters, loss_fn):\n",
    "        self.setup = setup\n",
    "        self.n_iters = n_iters\n",
    "        self.loss = []\n",
    "        self.loss_fn = loss_fn\n",
    "\n",
    "    def run(self):\n",
    "        mu, X, W, Lambda = self.setup.copy_init()\n",
    "        for t in range(self.n_iters):\n",
    "            X -= self.setup.eta * grad_x(self.setup, mu, X, W, Lambda)\n",
    "            Lambda += self.setup.gamma * grad_lambda(self.setup, mu, X, W, Lambda)\n",
    "            W = frank_wolfe(self.setup, mu, X, W, Lambda, t)\n",
    "            self.loss.append( Loss(self.setup, mu, X, W, Lambda) )\n",
    "        self.mu, self.X, self.W, self.Lambda = mu, X, W, Lambda\n",
    "        return self"
   ]
  },
  {
   "cell_type": "markdown",
   "metadata": {},
   "source": [
    "### Experiment 1:\n",
    "\n",
    "Initial $W$ vs the stochasticity of the gradient $\\sigma^2$"
   ]
  },
  {
   "cell_type": "code",
   "execution_count": 4,
   "metadata": {},
   "outputs": [],
   "source": [
    "class Experiment1(object):\n",
    "    def __init__(self, n_iters) -> None:\n",
    "        self.n_iters = n_iters\n",
    "        # shared\n",
    "        self.kw = dict(rho=0.1, eta=0.1, gamma=0.1)\n",
    "\n",
    "        self.setup_runs = [\n",
    "            Setup1(alpha=0.0, sigma=0.,   title=\"W=Id,\" + r\"$\\sigma=0$\", **self.kw),\n",
    "            Setup1(alpha=0.0, sigma=0.01, title=\"W=Id,\" + r\"$\\sigma=0.01$\", **self.kw),\n",
    "            Setup1(alpha=0.0, sigma=0.1,  title=\"W=Id,\" + r\"$\\sigma=0.1$\", **self.kw),\n",
    "            Setup2(alpha=0.0, sigma=0.,   title=\"W=E,\" + r\"$\\sigma=0$\", **self.kw),\n",
    "            Setup2(alpha=0.0, sigma=0.01, title=\"W=E,\" + r\"$\\sigma=0.01$\", **self.kw),\n",
    "            Setup2(alpha=0.0, sigma=0.1,  title=\"W=E,\" + r\"$\\sigma=0.1$\", **self.kw),\n",
    "\n",
    "            Setup1(alpha=0.01, sigma=0.,   title=\"W=Id,\" + r\"$\\sigma=0$\", **self.kw),\n",
    "            Setup1(alpha=0.01, sigma=0.01, title=\"W=Id,\" + r\"$\\sigma=0.01$\", **self.kw),\n",
    "            Setup1(alpha=0.01, sigma=0.1,  title=\"W=Id,\" + r\"$\\sigma=0.1$\", **self.kw),\n",
    "            Setup2(alpha=0.01, sigma=0.,   title=\"W=E,\" + r\"$\\sigma=0$\", **self.kw),\n",
    "            Setup2(alpha=0.01, sigma=0.01, title=\"W=E,\" + r\"$\\sigma=0.01$\", **self.kw),\n",
    "            Setup2(alpha=0.01, sigma=0.1,  title=\"W=E,\" + r\"$\\sigma=0.1$\", **self.kw),\n",
    "        ] \n",
    "\n",
    "    def run(self):\n",
    "        self.runs = []\n",
    "        for setup in self.setup_runs:\n",
    "            run = Run(setup, self.n_iters, Loss).run()\n",
    "            self.runs.append(run)\n",
    "\n",
    "experiment1 = Experiment1(1000)\n",
    "experiment1.run()"
   ]
  },
  {
   "cell_type": "code",
   "execution_count": 5,
   "metadata": {},
   "outputs": [
    {
     "data": {
      "image/png": "[encoded data removed]",
      "text/plain": [
       "<Figure size 600x400 with 4 Axes>"
      ]
     },
     "metadata": {},
     "output_type": "display_data"
    }
   ],
   "source": [
    "def plot_experiment1(e):\n",
    "    x = np.arange(1, e.n_iters+1)\n",
    "\n",
    "    fig, axes = plt.subplots(2, 2, figsize=(6, 4), sharey=True)\n",
    "\n",
    "    for i in range(3):\n",
    "        r = e.runs[i]\n",
    "        setup = e.setup_runs[i]\n",
    "        label = r\"$\\sigma=$\" + f\"{setup.sigma}\"\n",
    "        axes[0, 0].plot(x, [l.loss for l in r.loss], label=label)\n",
    "    \n",
    "    axes[0, 0].set_title(\"W=Id \" + r\"$\\alpha=0$\")\n",
    "    axes[0, 0].legend()\n",
    "    axes[0, 0].set_xlim(0, e.n_iters)\n",
    "    axes[0, 0].set_ylim(1e-6, 1e1)\n",
    "    axes[0, 0].set_yscale(\"log\")\n",
    "\n",
    "    for i in range(3, 6):\n",
    "        r = e.runs[i]\n",
    "        setup = e.setup_runs[i]\n",
    "        label = r\"$\\sigma=$\" + f\"{setup.sigma}\"\n",
    "        axes[0, 1].plot(x, [l.loss for l in r.loss], label=label)\n",
    "\n",
    "    axes[0, 1].set_title(\"W=E \"  + r\"$\\alpha=0$\")\n",
    "    axes[0, 1].set_xscale(\"log\")\n",
    "\n",
    "    for i in range(6,9):\n",
    "        r = e.runs[i]\n",
    "        setup = e.setup_runs[i]\n",
    "        label = r\"$\\sigma=$\" + f\"{setup.sigma}\"\n",
    "        axes[1, 0].plot(x, [l.loss for l in r.loss], label=label)\n",
    "    \n",
    "    axes[1, 0].set_title(\"W=Id \" + r\"$\\alpha=0.01$\")\n",
    "    axes[1, 0].legend()\n",
    "    axes[1, 0].set_xlim(0, e.n_iters)\n",
    "    axes[1, 0].set_ylim(1e-6, 1e1)\n",
    "    axes[1, 0].set_yscale(\"log\")\n",
    "\n",
    "    for i in range(9, 12):\n",
    "        r = e.runs[i]\n",
    "        setup = e.setup_runs[i]\n",
    "        label = r\"$\\sigma=$\" + f\"{setup.sigma}\"\n",
    "        axes[1, 1].plot(x, [l.loss for l in r.loss], label=label)\n",
    "\n",
    "    axes[1, 1].set_title(\"W=E \"  + r\"$\\alpha=0.01$\")\n",
    "    axes[1, 1].set_xscale(\"log\")\n",
    "\n",
    "    plt.subplots_adjust(hspace=0.5)\n",
    "    plt.show()\n",
    "    return fig, axes\n",
    "\n",
    "_ = plot_experiment1(experiment1)"
   ]
  },
  {
   "cell_type": "markdown",
   "metadata": {},
   "source": [
    "Analysis of the **above** and **next** figure:\n",
    "\n",
    "- Upper left subplots: (start with graph with no connection)\n",
    "    - $\\sigma^2=0.$: is a degenerated case because we start with W=I, $\\alpha=0$ and $\\sigma=0$. Essentially it is equivalent to train locally (sufficient as there is no noise at all).\n",
    "    - $\\sigma^2>0$: still train locally but with noise gradient.\n",
    "    - The first row of the **next figure** suggest that no changes to the $W$\n",
    "\n",
    "- Upper right subplots: (start with graph with full connection)\n",
    "    - The second row of the **next figure** suggest that start with fully connected graph enforces the $W$ to be updated. The connectivity structure can be found more or less, but not certain (green between 0 and 1).\n",
    "\n",
    "- Lower left and right subplots:\n",
    "    - As $\\alpha > 0$, $W$ is encouraged to form a larger group. (See the 3rd/4th row of **next figure**). It finds the optimal grouping successfully (yellow corresponds to value of 1).\n"
   ]
  },
  {
   "cell_type": "code",
   "execution_count": 6,
   "metadata": {},
   "outputs": [
    {
     "name": "stdout",
     "output_type": "stream",
     "text": [
      "The matrix W at the end of training.\n"
     ]
    },
    {
     "data": {
      "image/png": "[encoded data removed]",
      "text/plain": [
       "<Figure size 900x1200 with 12 Axes>"
      ]
     },
     "metadata": {},
     "output_type": "display_data"
    }
   ],
   "source": [
    "print(\"The matrix W at the end of training.\")\n",
    "fig, axes = plt.subplots(4, 3, figsize=(9, 12))\n",
    "for i in range(12):\n",
    "    axes[i//3, i%3].matshow(np.round(experiment1.runs[i].W, 2))\n",
    "    axes[i//3, i%3].set_xticks([])\n",
    "    axes[i//3, i%3].set_yticks([])\n"
   ]
  },
  {
   "cell_type": "code",
   "execution_count": null,
   "metadata": {},
   "outputs": [],
   "source": []
  }
 ],
 "metadata": {
  "kernelspec": {
   "display_name": "base",
   "language": "python",
   "name": "python3"
  },
  "language_info": {
   "codemirror_mode": {
    "name": "ipython",
    "version": 3
   },
   "file_extension": ".py",
   "mimetype": "text/x-python",
   "name": "python",
   "nbconvert_exporter": "python",
   "pygments_lexer": "ipython3",
   "version": "3.10.13"
  }
 },
 "nbformat": 4,
 "nbformat_minor": 2
}
